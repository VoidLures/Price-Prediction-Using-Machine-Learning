{
 "cells": [
  {
   "cell_type": "code",
   "execution_count": 17,
   "metadata": {},
   "outputs": [],
   "source": [
    "import joblib\n",
    "\n",
    "model = joblib.load('model.joblib')"
   ]
  },
  {
   "cell_type": "code",
   "execution_count": 22,
   "metadata": {},
   "outputs": [
    {
     "name": "stdout",
     "output_type": "stream",
     "text": [
      "<class 'sklearn.ensemble._forest.RandomForestRegressor'>\n"
     ]
    }
   ],
   "source": [
    "print(type(model))"
   ]
  },
  {
   "cell_type": "code",
   "execution_count": 18,
   "metadata": {},
   "outputs": [],
   "source": [
    "import tkinter as tk\n",
    "from tkinter import ttk"
   ]
  },
  {
   "cell_type": "code",
   "execution_count": 19,
   "metadata": {},
   "outputs": [],
   "source": [
    "def perform_regression():\n",
    "    h_age_value = float(h_age.get())\n",
    "    hd_mrt_value = float(hd_mrt.get())\n",
    "    hn_con_value = float(hn_con.get())\n",
    "    h_lat_value = float(h_lat.get())\n",
    "    h_long_value = float(h_long.get())\n",
    "    value = [[h_age_value, hd_mrt_value, hn_con_value, h_lat_value, h_long_value]]\n",
    "    result = model.predict(value)\n",
    "    result_label.config(text=f\"Hasil Prediksi harga adalah : {result[0]:.2f}\" )\n",
    "    "
   ]
  },
  {
   "cell_type": "code",
   "execution_count": 20,
   "metadata": {},
   "outputs": [],
   "source": [
    "def validate_input(p):\n",
    "    if p == \"\":\n",
    "        return True\n",
    "    \n",
    "    try:\n",
    "        float_value = float(p)\n",
    "        if float_value.is_integer() and p.startswith('0') and len(p) > 1:\n",
    "            return False  # Tidak boleh dimulai dengan nol jika bukan nol tunggal\n",
    "        return True\n",
    "    except ValueError:\n",
    "        return False"
   ]
  },
  {
   "cell_type": "code",
   "execution_count": 21,
   "metadata": {},
   "outputs": [],
   "source": [
    "root = tk.Tk()\n",
    "root.title(\"House Price Prediction for New York\")\n",
    "root.geometry(\"800x500\")\n",
    "root.configure(bg=\"#f0f0f0\")\n",
    "\n",
    "style = ttk.Style()\n",
    "style.configure(\"TLabel\", font=(\"Helvetica\", 12))\n",
    "style.configure(\"TEntry\", font=(\"Helvetica\", 12))\n",
    "style.configure(\"TButton\", font=(\"Helvetica\", 12, \"bold\"), background=\"#4CAF50\", foreground=\"white\")\n",
    "\n",
    "vcmd = (root.register(validate_input), '%P')\n",
    "\n",
    "root.grid_rowconfigure(0, weight=1)\n",
    "root.grid_columnconfigure(0, weight=1)\n",
    "\n",
    "frame_grid = ttk.Frame(root, padding=20)\n",
    "frame_grid.grid(row=0, column=0, sticky=\"nsew\")\n",
    "frame_grid.grid_rowconfigure(0, weight=1)\n",
    "frame_grid.grid_rowconfigure(1, weight=1)\n",
    "frame_grid.grid_rowconfigure(2, weight=1)\n",
    "frame_grid.grid_rowconfigure(3, weight=1)\n",
    "frame_grid.grid_rowconfigure(4, weight=1)\n",
    "frame_grid.grid_columnconfigure(0, weight=1)\n",
    "frame_grid.grid_columnconfigure(1, weight=1)\n",
    "\n",
    "h_age_label = ttk.Label(frame_grid, text=\"House age:\")\n",
    "h_age_label.grid(row=0, column=0, padx=10, pady=5, sticky=\"w\")\n",
    "h_age = ttk.Entry(frame_grid, validate='key', validatecommand=vcmd)\n",
    "h_age.grid(row=0, column=1, padx=10, pady=5, sticky=\"ew\")\n",
    "\n",
    "hd_mrt_label = ttk.Label(frame_grid, text=\"Distance to closest MRT station:\")\n",
    "hd_mrt_label.grid(row=1, column=0, padx=10, pady=5, sticky=\"w\")\n",
    "hd_mrt = ttk.Entry(frame_grid, validate='key', validatecommand=vcmd)\n",
    "hd_mrt.grid(row=1, column=1, padx=10, pady=5, sticky=\"ew\")\n",
    "\n",
    "hn_con_label = ttk.Label(frame_grid, text=\"Number of convenience stores:\")\n",
    "hn_con_label.grid(row=2, column=0, padx=10, pady=5, sticky=\"w\")\n",
    "hn_con = ttk.Entry(frame_grid, validate='key', validatecommand=vcmd)\n",
    "hn_con.grid(row=2, column=1, padx=10, pady=5, sticky=\"ew\")\n",
    "\n",
    "h_lat_label = ttk.Label(frame_grid, text=\"Latitude:\")\n",
    "h_lat_label.grid(row=3, column=0, padx=10, pady=5, sticky=\"w\")\n",
    "h_lat = ttk.Entry(frame_grid, validate='key', validatecommand=vcmd)\n",
    "h_lat.grid(row=3, column=1, padx=10, pady=5, sticky=\"ew\")\n",
    "\n",
    "h_long_label = ttk.Label(frame_grid, text=\"Longitude:\")\n",
    "h_long_label.grid(row=4, column=0, padx=10, pady=5, sticky=\"w\")\n",
    "h_long = ttk.Entry(frame_grid, validate='key', validatecommand=vcmd)\n",
    "h_long.grid(row=4, column=1, padx=10, pady=5, sticky=\"ew\")\n",
    "\n",
    "button_frame = ttk.Frame(root)\n",
    "button_frame.grid(row=1, column=0, pady=10, sticky=\"ew\")\n",
    "button_frame.grid_columnconfigure(0, weight=1)\n",
    "\n",
    "button = ttk.Button(button_frame, text=\"Mulai Regresi\", command=perform_regression)\n",
    "button.grid(row=0, column=0, padx=20, pady=10)\n",
    "\n",
    "result_label = ttk.Label(root, text=\"\", font=(\"Helvetica\", 20, \"italic\"))\n",
    "result_label.grid(row=2, column=0, pady=50)\n",
    "\n",
    "root.mainloop()"
   ]
  }
 ],
 "metadata": {
  "kernelspec": {
   "display_name": "base",
   "language": "python",
   "name": "python3"
  },
  "language_info": {
   "codemirror_mode": {
    "name": "ipython",
    "version": 3
   },
   "file_extension": ".py",
   "mimetype": "text/x-python",
   "name": "python",
   "nbconvert_exporter": "python",
   "pygments_lexer": "ipython3",
   "version": "3.11.5"
  }
 },
 "nbformat": 4,
 "nbformat_minor": 2
}
